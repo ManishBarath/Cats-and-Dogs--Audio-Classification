{
  "nbformat": 4,
  "nbformat_minor": 0,
  "metadata": {
    "colab": {
      "provenance": [],
      "authorship_tag": "ABX9TyMRS2D4s5Fk9/4dhJH+AOr8",
      "include_colab_link": true
    },
    "kernelspec": {
      "name": "python3",
      "display_name": "Python 3"
    },
    "language_info": {
      "name": "python"
    }
  },
  "cells": [
    {
      "cell_type": "markdown",
      "metadata": {
        "id": "view-in-github",
        "colab_type": "text"
      },
      "source": [
        "<a href=\"https://colab.research.google.com/github/ManishBarath/Cats-and-Dogs--Audio-Classification/blob/main/cats_dogs_audio.ipynb\" target=\"_parent\"><img src=\"https://colab.research.google.com/assets/colab-badge.svg\" alt=\"Open In Colab\"/></a>"
      ]
    },
    {
      "cell_type": "code",
      "execution_count": null,
      "metadata": {
        "colab": {
          "base_uri": "https://localhost:8080/"
        },
        "id": "nP5lPvNfpNBB",
        "outputId": "07262402-0445-41ea-8e49-b9e9c3c48598"
      },
      "outputs": [
        {
          "output_type": "stream",
          "name": "stdout",
          "text": [
            "Downloading from https://www.kaggle.com/api/v1/datasets/download/mmoreaux/audio-cats-and-dogs?dataset_version_number=5...\n"
          ]
        },
        {
          "output_type": "stream",
          "name": "stderr",
          "text": [
            "100%|██████████| 97.0M/97.0M [00:04<00:00, 24.3MB/s]"
          ]
        },
        {
          "output_type": "stream",
          "name": "stdout",
          "text": [
            "Extracting files...\n"
          ]
        },
        {
          "output_type": "stream",
          "name": "stderr",
          "text": [
            "\n"
          ]
        },
        {
          "output_type": "stream",
          "name": "stdout",
          "text": [
            "Path to dataset files: /root/.cache/kagglehub/datasets/mmoreaux/audio-cats-and-dogs/versions/5\n"
          ]
        }
      ],
      "source": [
        "import kagglehub\n",
        "\n",
        "# Download latest version\n",
        "path = kagglehub.dataset_download(\"mmoreaux/audio-cats-and-dogs\")\n",
        "\n",
        "print(\"Path to dataset files:\", path)"
      ]
    },
    {
      "cell_type": "code",
      "source": [
        "import os\n",
        "import torchaudio\n",
        "import librosa\n",
        "import numpy as np"
      ],
      "metadata": {
        "id": "vM3y6fcZqGD9"
      },
      "execution_count": null,
      "outputs": []
    },
    {
      "cell_type": "code",
      "source": [
        "train_dataset_path = \"/content/cats_dogs/train\"\n",
        "test_dataset_path = \"/content/cats_dogs\"\n"
      ],
      "metadata": {
        "id": "U06jMHSfqB-q"
      },
      "execution_count": null,
      "outputs": []
    },
    {
      "cell_type": "code",
      "source": [
        "labels = {\n",
        "    \"cat\" : 0,\n",
        "    \"dog\" :1\n",
        "}"
      ],
      "metadata": {
        "id": "E9Vlf5sqrkYN"
      },
      "execution_count": null,
      "outputs": []
    },
    {
      "cell_type": "code",
      "source": [
        "train_x = []\n",
        "train_y = []"
      ],
      "metadata": {
        "id": "ID1Qgvftvba_"
      },
      "execution_count": null,
      "outputs": []
    },
    {
      "cell_type": "code",
      "source": [
        "for animal in os.listdir(train_dataset_path):\n",
        "    for file in os.listdir(os.path.join(train_dataset_path, animal)):\n",
        "        train_x.append(os.path.join(train_dataset_path, animal, file))\n",
        "        train_y.append(labels[animal])"
      ],
      "metadata": {
        "id": "A1FUKTOgvoI1",
        "colab": {
          "base_uri": "https://localhost:8080/",
          "height": 200
        },
        "outputId": "41a71c9f-967d-4844-99b0-b59d16d7b1ea"
      },
      "execution_count": null,
      "outputs": [
        {
          "output_type": "error",
          "ename": "FileNotFoundError",
          "evalue": "[Errno 2] No such file or directory: '/content/cats_dogs/train'",
          "traceback": [
            "\u001b[0;31m---------------------------------------------------------------------------\u001b[0m",
            "\u001b[0;31mFileNotFoundError\u001b[0m                         Traceback (most recent call last)",
            "\u001b[0;32m<ipython-input-7-5d725267fa51>\u001b[0m in \u001b[0;36m<cell line: 0>\u001b[0;34m()\u001b[0m\n\u001b[0;32m----> 1\u001b[0;31m \u001b[0;32mfor\u001b[0m \u001b[0manimal\u001b[0m \u001b[0;32min\u001b[0m \u001b[0mos\u001b[0m\u001b[0;34m.\u001b[0m\u001b[0mlistdir\u001b[0m\u001b[0;34m(\u001b[0m\u001b[0mtrain_dataset_path\u001b[0m\u001b[0;34m)\u001b[0m\u001b[0;34m:\u001b[0m\u001b[0;34m\u001b[0m\u001b[0;34m\u001b[0m\u001b[0m\n\u001b[0m\u001b[1;32m      2\u001b[0m     \u001b[0;32mfor\u001b[0m \u001b[0mfile\u001b[0m \u001b[0;32min\u001b[0m \u001b[0mos\u001b[0m\u001b[0;34m.\u001b[0m\u001b[0mlistdir\u001b[0m\u001b[0;34m(\u001b[0m\u001b[0mos\u001b[0m\u001b[0;34m.\u001b[0m\u001b[0mpath\u001b[0m\u001b[0;34m.\u001b[0m\u001b[0mjoin\u001b[0m\u001b[0;34m(\u001b[0m\u001b[0mtrain_dataset_path\u001b[0m\u001b[0;34m,\u001b[0m \u001b[0manimal\u001b[0m\u001b[0;34m)\u001b[0m\u001b[0;34m)\u001b[0m\u001b[0;34m:\u001b[0m\u001b[0;34m\u001b[0m\u001b[0;34m\u001b[0m\u001b[0m\n\u001b[1;32m      3\u001b[0m         \u001b[0mtrain_x\u001b[0m\u001b[0;34m.\u001b[0m\u001b[0mappend\u001b[0m\u001b[0;34m(\u001b[0m\u001b[0mos\u001b[0m\u001b[0;34m.\u001b[0m\u001b[0mpath\u001b[0m\u001b[0;34m.\u001b[0m\u001b[0mjoin\u001b[0m\u001b[0;34m(\u001b[0m\u001b[0mtrain_dataset_path\u001b[0m\u001b[0;34m,\u001b[0m \u001b[0manimal\u001b[0m\u001b[0;34m,\u001b[0m \u001b[0mfile\u001b[0m\u001b[0;34m)\u001b[0m\u001b[0;34m)\u001b[0m\u001b[0;34m\u001b[0m\u001b[0;34m\u001b[0m\u001b[0m\n\u001b[1;32m      4\u001b[0m         \u001b[0mtrain_y\u001b[0m\u001b[0;34m.\u001b[0m\u001b[0mappend\u001b[0m\u001b[0;34m(\u001b[0m\u001b[0mlabels\u001b[0m\u001b[0;34m[\u001b[0m\u001b[0manimal\u001b[0m\u001b[0;34m]\u001b[0m\u001b[0;34m)\u001b[0m\u001b[0;34m\u001b[0m\u001b[0;34m\u001b[0m\u001b[0m\n",
            "\u001b[0;31mFileNotFoundError\u001b[0m: [Errno 2] No such file or directory: '/content/cats_dogs/train'"
          ]
        }
      ]
    },
    {
      "cell_type": "code",
      "source": [
        "print(train_x)\n",
        "print(len(train_x))"
      ],
      "metadata": {
        "id": "XO27UQnuvy5I"
      },
      "execution_count": null,
      "outputs": []
    },
    {
      "cell_type": "code",
      "source": [
        "from sklearn.svm import SVC"
      ],
      "metadata": {
        "id": "GEK5O4lrwIYv"
      },
      "execution_count": null,
      "outputs": []
    },
    {
      "cell_type": "code",
      "source": [
        "model = SVC()"
      ],
      "metadata": {
        "id": "R-76SnmPw_kX"
      },
      "execution_count": null,
      "outputs": []
    },
    {
      "cell_type": "code",
      "source": [
        "extracted_x = []"
      ],
      "metadata": {
        "id": "YWJeayyUxR0w"
      },
      "execution_count": null,
      "outputs": []
    },
    {
      "cell_type": "code",
      "source": [
        "def extract_feature(path):\n",
        "       try:\n",
        "           waveform, sample_rate = torchaudio.load(path)\n",
        "           f = librosa.feature.mfcc(y=waveform.numpy()[0], sr=sample_rate, n_mfcc=500)  # Access the first channel of the waveform\n",
        "           return np.mean(f.T, axis=0)  # Return mean MFCCs\n",
        "       except Exception as e:\n",
        "           print(f\"Error processing {path}: {e}\")\n",
        "           return None  # Return None if there is an error"
      ],
      "metadata": {
        "id": "37v7iZrqxVyi"
      },
      "execution_count": null,
      "outputs": []
    },
    {
      "cell_type": "code",
      "source": [
        "for path in train_x:\n",
        "  extracted_x.append(extract_feature(path))"
      ],
      "metadata": {
        "id": "VUXZGVyuxgnO"
      },
      "execution_count": null,
      "outputs": []
    },
    {
      "cell_type": "code",
      "source": [
        "print(extracted_x[0])"
      ],
      "metadata": {
        "id": "WMeDtWvNyXlr"
      },
      "execution_count": null,
      "outputs": []
    },
    {
      "cell_type": "code",
      "source": [
        "from sklearn.preprocessing import StandardScaler\n",
        "\n",
        "scaler = StandardScaler()\n",
        "extracted_x_scaled = scaler.fit_transform(extracted_x)"
      ],
      "metadata": {
        "id": "HhnKAdbazSct"
      },
      "execution_count": null,
      "outputs": []
    },
    {
      "cell_type": "code",
      "source": [
        "print(extracted_x_scaled[0])"
      ],
      "metadata": {
        "id": "TC04eS7d0K6h"
      },
      "execution_count": null,
      "outputs": []
    },
    {
      "cell_type": "markdown",
      "source": [],
      "metadata": {
        "id": "FcIiKZ4MHmlV"
      }
    },
    {
      "cell_type": "code",
      "source": [
        "model = model.fit(extracted_x_scaled , train_y)"
      ],
      "metadata": {
        "id": "vnnBu2aS0TC4"
      },
      "execution_count": null,
      "outputs": []
    },
    {
      "cell_type": "code",
      "source": [
        "test_x = []\n",
        "test_y = []"
      ],
      "metadata": {
        "id": "_pJGhAfk03DU"
      },
      "execution_count": null,
      "outputs": []
    },
    {
      "cell_type": "code",
      "source": [
        "for animal in os.listdir(test_dataset_path):\n",
        "      if animal.endswith(\".wav\"):\n",
        "        test_x.append(os.path.join(test_dataset_path, animal))\n",
        "        if animal.startswith(\"cat\"):\n",
        "          test_y.append(0)\n",
        "        else:\n",
        "          test_y.append(1)"
      ],
      "metadata": {
        "id": "f7EJoask0-PQ"
      },
      "execution_count": null,
      "outputs": []
    },
    {
      "cell_type": "code",
      "source": [
        "print(test_x)\n",
        "\n",
        "print(test_y)"
      ],
      "metadata": {
        "id": "QjcflAYb1qug"
      },
      "execution_count": null,
      "outputs": []
    },
    {
      "cell_type": "code",
      "source": [
        "\n",
        "extracted_test_x = []\n",
        "for path in test_x:\n",
        "    features = extract_feature(path)\n",
        "    if features is not None:\n",
        "        extracted_test_x.append(features)\n",
        "    else:\n",
        "        print(f\"Skipping {path} due to error\")"
      ],
      "metadata": {
        "id": "SWcVgrG51U6q"
      },
      "execution_count": null,
      "outputs": []
    },
    {
      "cell_type": "code",
      "source": [
        "print(extracted_test_x[0])"
      ],
      "metadata": {
        "id": "gPsZc8OO5PtX",
        "collapsed": true
      },
      "execution_count": null,
      "outputs": []
    },
    {
      "cell_type": "code",
      "source": [
        "extracted_x_scaled = scaler.fit_transform(extracted_test_x)"
      ],
      "metadata": {
        "id": "W0uRkJVG5aIO"
      },
      "execution_count": null,
      "outputs": []
    },
    {
      "cell_type": "code",
      "source": [
        "print(extracted_x_scaled[0])"
      ],
      "metadata": {
        "id": "sogrU8vy5i98",
        "collapsed": true
      },
      "execution_count": null,
      "outputs": []
    },
    {
      "cell_type": "code",
      "source": [
        "predicted = model.predict(extracted_x_scaled)"
      ],
      "metadata": {
        "id": "L6n6AKJS5lk4"
      },
      "execution_count": null,
      "outputs": []
    },
    {
      "cell_type": "code",
      "source": [
        "cnt = 0\n",
        "for i in range(len(predicted)):\n",
        "  if predicted[i] == test_y[i]:\n",
        "    cnt += 1"
      ],
      "metadata": {
        "id": "Hn1jJCqw5q7N"
      },
      "execution_count": null,
      "outputs": []
    },
    {
      "cell_type": "code",
      "source": [
        "from sklearn.metrics import accuracy_score\n",
        "accuracy = accuracy_score(test_y, predicted)\n",
        "print(f\"Accuracy: {accuracy}\")\n"
      ],
      "metadata": {
        "id": "GcXOSRpF5wHW"
      },
      "execution_count": null,
      "outputs": []
    }
  ]
}